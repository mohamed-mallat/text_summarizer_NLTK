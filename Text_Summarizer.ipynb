{
  "cells": [
    {
      "cell_type": "markdown",
      "metadata": {
        "id": "aEEU7moNYCGc"
      },
      "source": [
        "## Import Necessary Libraries"
      ]
    },
    {
      "cell_type": "code",
      "execution_count": 1,
      "metadata": {
        "colab": {
          "base_uri": "https://localhost:8080/"
        },
        "id": "E5_SkZ6dYCGg",
        "outputId": "6941ebac-3c94-4c6b-9106-eb62c5f5e4d6"
      },
      "outputs": [
        {
          "output_type": "stream",
          "name": "stderr",
          "text": [
            "[nltk_data] Downloading package punkt to /root/nltk_data...\n",
            "[nltk_data]   Unzipping tokenizers/punkt.zip.\n",
            "[nltk_data] Downloading package stopwords to /root/nltk_data...\n",
            "[nltk_data]   Unzipping corpora/stopwords.zip.\n"
          ]
        },
        {
          "output_type": "execute_result",
          "data": {
            "text/plain": [
              "True"
            ]
          },
          "metadata": {},
          "execution_count": 1
        }
      ],
      "source": [
        "import bs4 as bs\n",
        "import urllib.request\n",
        "import re\n",
        "import nltk\n",
        "nltk.download('punkt')\n",
        "nltk.download('stopwords')"
      ]
    },
    {
      "cell_type": "markdown",
      "source": [
        "## Importing the data\n",
        "###### Here I chose to import data from a .html file but you can change this block code according to the data that want to summarize.\n",
        "The .html file is provided so that you can test it with that if you want"
      ],
      "metadata": {
        "id": "to6gw8jNPyTF"
      }
    },
    {
      "cell_type": "code",
      "execution_count": 3,
      "metadata": {
        "id": "d19WPekyYCGj"
      },
      "outputs": [],
      "source": [
        "file_name = 'text.html'\n",
        "\n",
        "with open(file_name, 'r') as file:\n",
        "  article = file.read()\n",
        "  parsed_article =  bs.BeautifulSoup(article, 'lxml')\n",
        "  paragraphs = parsed_article.find_all('p')\n",
        "  article_text = \"\"\n",
        "  for p in paragraphs:\n",
        "    article_text += p.text"
      ]
    },
    {
      "cell_type": "markdown",
      "metadata": {
        "id": "hYHuC7zhYCGk"
      },
      "source": [
        "## Preprocessing"
      ]
    },
    {
      "cell_type": "code",
      "execution_count": 4,
      "metadata": {
        "id": "ElLP4luDYCGk"
      },
      "outputs": [],
      "source": [
        "article_text = re.sub(r'\\[[0-9]*\\]', ' ', article_text)\n",
        "article_text = re.sub(r'\\s+', ' ', article_text)\n",
        "formatted_article = re.sub('[^a-zA-Z]', ' ', article_text)\n",
        "formatted_article = re.sub(r'\\s+', ' ', formatted_article)"
      ]
    },
    {
      "cell_type": "code",
      "execution_count": 5,
      "metadata": {
        "id": "-TV1ahhMYCGk"
      },
      "outputs": [],
      "source": [
        "tokenize_sentence = nltk.sent_tokenize(article_text)"
      ]
    },
    {
      "cell_type": "markdown",
      "metadata": {
        "id": "cOy7eh7MYCGl"
      },
      "source": [
        "## Frequency of Each Word"
      ]
    },
    {
      "cell_type": "code",
      "execution_count": 6,
      "metadata": {
        "id": "CBvzDBI_YCGl"
      },
      "outputs": [],
      "source": [
        "stopwords = nltk.corpus.stopwords.words('english')\n",
        "word_frequency = {}\n",
        "for word in nltk.word_tokenize(formatted_article):\n",
        "    if word not in stopwords:\n",
        "        if word not in word_frequency.keys():\n",
        "            word_frequency[word] = 1\n",
        "        else:\n",
        "            word_frequency[word] += 1"
      ]
    },
    {
      "cell_type": "code",
      "execution_count": 7,
      "metadata": {
        "id": "MLto1MT2YCGm"
      },
      "outputs": [],
      "source": [
        "maximum_frequncy = max(word_frequency.values())\n",
        "for word in word_frequency.keys():\n",
        "    word_frequency[word] = (word_frequency[word] / maximum_frequncy)"
      ]
    },
    {
      "cell_type": "markdown",
      "metadata": {
        "id": "OnfiuMohYCGm"
      },
      "source": [
        "# Sentence Score\n"
      ]
    },
    {
      "cell_type": "code",
      "execution_count": 8,
      "metadata": {
        "id": "9FK2eYQqYCGm"
      },
      "outputs": [],
      "source": [
        "sentence_score = {}\n",
        "for sent in tokenize_sentence:\n",
        "    for word in nltk.word_tokenize(sent.lower()):\n",
        "        if word in word_frequency.keys():\n",
        "            if len(sent.split(' ')) < 50:\n",
        "                if sent not in sentence_score.keys():\n",
        "                    sentence_score[sent] = word_frequency[word]\n",
        "                else:\n",
        "                    sentence_score[sent] += word_frequency[word]"
      ]
    },
    {
      "cell_type": "markdown",
      "metadata": {
        "id": "SiNifHF-YCGn"
      },
      "source": [
        "## Summary of Whole Text"
      ]
    },
    {
      "cell_type": "code",
      "execution_count": 9,
      "metadata": {
        "colab": {
          "base_uri": "https://localhost:8080/"
        },
        "id": "sOIYbJX-YCGn",
        "outputId": "94f56009-4110-4e83-e610-b368c1b5b914"
      },
      "outputs": [
        {
          "output_type": "stream",
          "name": "stdout",
          "text": [
            "One advantage that would come to the city in having a full-time director, he said, is that East Providence would become eligible to apply to the federal government for financial aid in purchasing equipment needed for a sound civil defense program. Speaking of the present status of civil defense in the city, Mr. Hawksley said he would be willing to bet that not more than one person in a hundred would know what to do or where to go in the event of an enemy attack. Noting that President Kennedy has handed the Defense Department the major responsibility for the nation's civil defense program, Mr. Hawksley said the federal government would pay half the salary of a full-time local director. Mr. Hawksley said yesterday he would be willing to go before the city council `` or anyone else locally '' to outline his proposal at the earliest possible time. He expressed the opinion the city could hire a CD director for about $3,500 a year and would only have to put up half that amount on a matching fund basis to defray the salary costs. Mr. Hawksley said he believed there are a number of qualified city residents who would be willing to take the full-time CD job. East Providence should organize its civil defense setup and begin by appointing a full-time director, Raymond H. Hawksley, the present city CD head, believes. Along with a director, the city should provide a CD headquarters so that pertinent information about the local organization would be centralized. He would assign one of the rescue trucks to the Riverside section of the city and the other to the Rumford area. Mr. Hawksley, the state's general treasurer, has been a part-time CD director in the city for the last nine years.\n"
          ]
        }
      ],
      "source": [
        "import heapq\n",
        "sentence_summary = heapq.nlargest(10, sentence_score, key = sentence_score.get)\n",
        "summary = ' '.join(sentence_summary)\n",
        "print(summary)"
      ]
    },
    {
      "cell_type": "markdown",
      "source": [
        "## Write data in a file["
      ],
      "metadata": {
        "id": "A1Sj-EAXQ4dj"
      }
    },
    {
      "cell_type": "code",
      "source": [
        "with open('final.txt', 'w', encoding='UTF8', newline='') as f:\n",
        "    writer = f.write(summary)"
      ],
      "metadata": {
        "id": "gdcUxZCiZf6F"
      },
      "execution_count": 10,
      "outputs": []
    }
  ],
  "metadata": {
    "kernelspec": {
      "display_name": "Python 3",
      "language": "python",
      "name": "python3"
    },
    "language_info": {
      "codemirror_mode": {
        "name": "ipython",
        "version": 3
      },
      "file_extension": ".py",
      "mimetype": "text/x-python",
      "name": "python",
      "nbconvert_exporter": "python",
      "pygments_lexer": "ipython3",
      "version": "3.8.5"
    },
    "toc": {
      "base_numbering": 1,
      "nav_menu": {},
      "number_sections": false,
      "sideBar": true,
      "skip_h1_title": false,
      "title_cell": "Table of Contents",
      "title_sidebar": "Contents",
      "toc_cell": false,
      "toc_position": {},
      "toc_section_display": true,
      "toc_window_display": true
    },
    "colab": {
      "provenance": []
    }
  },
  "nbformat": 4,
  "nbformat_minor": 0
}